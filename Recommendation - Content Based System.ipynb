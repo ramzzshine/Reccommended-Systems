{
 "cells": [
  {
   "cell_type": "code",
   "execution_count": 1,
   "metadata": {
    "collapsed": true
   },
   "outputs": [],
   "source": [
    "import pandas as pd \n",
    "import numpy as np\n",
    "import warnings\n",
    "warnings.filterwarnings('ignore')\n",
    "import re \n",
    "from sklearn.feature_extraction.text import TfidfVectorizer\n",
    "from sklearn.metrics.pairwise import linear_kernel\n"
   ]
  },
  {
   "cell_type": "code",
   "execution_count": 2,
   "metadata": {
    "collapsed": true
   },
   "outputs": [],
   "source": [
    "\n",
    "books = pd.read_excel('C://Users/DS7_RVepuri/Desktop/Reccomendation/User 4.xlsx',sheet_name='user_item4')\n",
    "items = pd.read_excel('C://Users/DS7_RVepuri/Desktop/Reccomendation/User 4.xlsx',sheet_name='Item-desc')\n",
    "data = pd.merge(books,items)"
   ]
  },
  {
   "cell_type": "code",
   "execution_count": 3,
   "metadata": {
    "collapsed": true
   },
   "outputs": [],
   "source": [
    "books.drop('Unnamed: 0',axis=1,inplace=True)"
   ]
  },
  {
   "cell_type": "code",
   "execution_count": 4,
   "metadata": {
    "collapsed": true
   },
   "outputs": [],
   "source": [
    "def clean_title(statement):\n",
    "    return ' '.join(re.sub(\"/@%&|(@[A-Za-z0-9]+)|([^0-9A-Za-z \\t])|(\\w+:\\/\\/\\S+)\", \" \", statement).split())"
   ]
  },
  {
   "cell_type": "code",
   "execution_count": 5,
   "metadata": {
    "collapsed": true
   },
   "outputs": [],
   "source": [
    "for i in items['title'].index:\n",
    "    items['title'][i] = clean_title(items['title'][i])"
   ]
  },
  {
   "cell_type": "code",
   "execution_count": 6,
   "metadata": {
    "collapsed": true
   },
   "outputs": [],
   "source": [
    "data = pd.merge(books,items,on='ITEM')"
   ]
  },
  {
   "cell_type": "code",
   "execution_count": 7,
   "metadata": {},
   "outputs": [
    {
     "data": {
      "text/html": [
       "<div>\n",
       "<style scoped>\n",
       "    .dataframe tbody tr th:only-of-type {\n",
       "        vertical-align: middle;\n",
       "    }\n",
       "\n",
       "    .dataframe tbody tr th {\n",
       "        vertical-align: top;\n",
       "    }\n",
       "\n",
       "    .dataframe thead th {\n",
       "        text-align: right;\n",
       "    }\n",
       "</style>\n",
       "<table border=\"1\" class=\"dataframe\">\n",
       "  <thead>\n",
       "    <tr style=\"text-align: right;\">\n",
       "      <th></th>\n",
       "      <th>USER</th>\n",
       "      <th>ITEM</th>\n",
       "      <th>RATING</th>\n",
       "      <th>title</th>\n",
       "    </tr>\n",
       "  </thead>\n",
       "  <tbody>\n",
       "    <tr>\n",
       "      <th>0</th>\n",
       "      <td>A2NVNMLC0AFL08</td>\n",
       "      <td>B004KNWWMW</td>\n",
       "      <td>5</td>\n",
       "      <td>Fostex T40RP MkII Pro Headphones</td>\n",
       "    </tr>\n",
       "    <tr>\n",
       "      <th>1</th>\n",
       "      <td>A2UZUH4QHV4HA1</td>\n",
       "      <td>B004KNWWMW</td>\n",
       "      <td>5</td>\n",
       "      <td>Fostex T40RP MkII Pro Headphones</td>\n",
       "    </tr>\n",
       "    <tr>\n",
       "      <th>2</th>\n",
       "      <td>A2IX2PCXS5O2FK</td>\n",
       "      <td>B004KNWWMW</td>\n",
       "      <td>5</td>\n",
       "      <td>Fostex T40RP MkII Pro Headphones</td>\n",
       "    </tr>\n",
       "    <tr>\n",
       "      <th>3</th>\n",
       "      <td>AWG2Y42W9RNNK</td>\n",
       "      <td>B004KNWWMW</td>\n",
       "      <td>4</td>\n",
       "      <td>Fostex T40RP MkII Pro Headphones</td>\n",
       "    </tr>\n",
       "    <tr>\n",
       "      <th>4</th>\n",
       "      <td>A1YGUFU306JKGK</td>\n",
       "      <td>B004KNWWMW</td>\n",
       "      <td>5</td>\n",
       "      <td>Fostex T40RP MkII Pro Headphones</td>\n",
       "    </tr>\n",
       "  </tbody>\n",
       "</table>\n",
       "</div>"
      ],
      "text/plain": [
       "             USER        ITEM  RATING                             title\n",
       "0  A2NVNMLC0AFL08  B004KNWWMW       5  Fostex T40RP MkII Pro Headphones\n",
       "1  A2UZUH4QHV4HA1  B004KNWWMW       5  Fostex T40RP MkII Pro Headphones\n",
       "2  A2IX2PCXS5O2FK  B004KNWWMW       5  Fostex T40RP MkII Pro Headphones\n",
       "3   AWG2Y42W9RNNK  B004KNWWMW       4  Fostex T40RP MkII Pro Headphones\n",
       "4  A1YGUFU306JKGK  B004KNWWMW       5  Fostex T40RP MkII Pro Headphones"
      ]
     },
     "execution_count": 7,
     "metadata": {},
     "output_type": "execute_result"
    }
   ],
   "source": [
    "data.head()"
   ]
  },
  {
   "cell_type": "code",
   "execution_count": 9,
   "metadata": {},
   "outputs": [],
   "source": [
    "tf = TfidfVectorizer(analyzer='word', ngram_range=(1, 3), min_df=0, stop_words='english')\n",
    "tfidf_matrix = tf.fit_transform(data['title'])\n"
   ]
  },
  {
   "cell_type": "markdown",
   "metadata": {},
   "source": [
    "**It is a content based recommender system that uses tf-idf and cosine similarity for N Most SImilar Items from a dataset**"
   ]
  },
  {
   "cell_type": "code",
   "execution_count": 10,
   "metadata": {
    "collapsed": true
   },
   "outputs": [],
   "source": [
    "cosine_similarities = linear_kernel(tfidf_matrix, tfidf_matrix)"
   ]
  },
  {
   "cell_type": "code",
   "execution_count": 11,
   "metadata": {},
   "outputs": [],
   "source": [
    "results ={}"
   ]
  },
  {
   "cell_type": "code",
   "execution_count": 12,
   "metadata": {},
   "outputs": [
    {
     "name": "stdout",
     "output_type": "stream",
     "text": [
      "done!\n"
     ]
    }
   ],
   "source": [
    "for idx, row in data.iterrows():\n",
    "    similar_indices = cosine_similarities[idx].argsort()[:-100:-1]\n",
    "    similar_items = [(cosine_similarities[idx][i], data['ITEM'][i]) for i in similar_indices]\n",
    "\n",
    "    results[row['ITEM']] = similar_items[1:]\n",
    "    \n",
    "print('done!')"
   ]
  },
  {
   "cell_type": "code",
   "execution_count": 13,
   "metadata": {
    "collapsed": true
   },
   "outputs": [],
   "source": [
    "def item(ITEM):\n",
    "    return data.loc[data['ITEM'] == ITEM]['title'].tolist()[0].split(' - ')[0]\n"
   ]
  },
  {
   "cell_type": "code",
   "execution_count": 14,
   "metadata": {
    "collapsed": true
   },
   "outputs": [],
   "source": [
    "# Just reads the results out of the dictionary.\n",
    "def recommend(item_id, num):\n",
    "    print(\"Recommending \" + str(num) + \" products similar to \" + item(item_id) + \"...\")\n",
    "    print(\"-------\")\n",
    "    recs = results[item_id][:num]\n",
    "    for rec in recs:\n",
    "        print(\"Recommended: \" + item(rec[1]) + \" (score:\" + str(rec[0]) + \")\")\n"
   ]
  },
  {
   "cell_type": "code",
   "execution_count": 16,
   "metadata": {},
   "outputs": [
    {
     "name": "stdout",
     "output_type": "stream",
     "text": [
      "Recommending 10 products similar to Fostex T40RP MkII Pro Headphones...\n",
      "-------\n",
      "Recommended: Fostex T40RP MkII Pro Headphones (score:0.9999999999999998)\n",
      "Recommended: Fostex T40RP MkII Pro Headphones (score:0.9999999999999998)\n",
      "Recommended: Fostex T40RP MkII Pro Headphones (score:0.9999999999999998)\n",
      "Recommended: Fostex T40RP MkII Pro Headphones (score:0.9999999999999998)\n",
      "Recommended: Fostex T40RP MkII Pro Headphones (score:0.9999999999999998)\n",
      "Recommended: Fostex T40RP MkII Pro Headphones (score:0.9999999999999998)\n",
      "Recommended: Fostex T40RP MkII Pro Headphones (score:0.9999999999999998)\n",
      "Recommended: Fostex T40RP MkII Pro Headphones (score:0.9999999999999998)\n",
      "Recommended: Fostex T40RP MkII Pro Headphones (score:0.9999999999999998)\n",
      "Recommended: Fostex T40RP MkII Pro Headphones (score:0.9999999999999998)\n"
     ]
    }
   ],
   "source": [
    "recommend(item_id='B004KNWWMW', num=10)"
   ]
  },
  {
   "cell_type": "code",
   "execution_count": null,
   "metadata": {
    "collapsed": true
   },
   "outputs": [],
   "source": []
  }
 ],
 "metadata": {
  "kernelspec": {
   "display_name": "Python 3",
   "language": "python",
   "name": "python3"
  },
  "language_info": {
   "codemirror_mode": {
    "name": "ipython",
    "version": 3
   },
   "file_extension": ".py",
   "mimetype": "text/x-python",
   "name": "python",
   "nbconvert_exporter": "python",
   "pygments_lexer": "ipython3",
   "version": "3.6.3"
  }
 },
 "nbformat": 4,
 "nbformat_minor": 2
}
