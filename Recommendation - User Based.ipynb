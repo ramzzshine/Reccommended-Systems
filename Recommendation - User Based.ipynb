{
 "cells": [
  {
   "cell_type": "code",
   "execution_count": 1,
   "metadata": {
    "collapsed": true
   },
   "outputs": [],
   "source": [
    "import random\n",
    "import pandas as pd\n",
    "import numpy as np\n",
    "import pickle\n",
    "import scipy.sparse as sparse\n",
    "from scipy.sparse.linalg import spsolve\n",
    "from sklearn.metrics.pairwise import cosine_distances, cosine_similarity\n",
    "import re\n",
    "import os\n",
    "from sklearn.preprocessing import MinMaxScaler"
   ]
  },
  {
   "cell_type": "code",
   "execution_count": 2,
   "metadata": {
    "collapsed": true
   },
   "outputs": [],
   "source": [
    "books = pd.read_excel('C://Users/DS7_RVepuri/Desktop/Reccomendation/User 4.xlsx',sheet_name='user_item4')\n",
    "items = pd.read_excel('C://Users/DS7_RVepuri/Desktop/Reccomendation/User 4.xlsx',sheet_name='Item-desc')\n",
    "data = pd.merge(books,items)"
   ]
  },
  {
   "cell_type": "code",
   "execution_count": 3,
   "metadata": {
    "collapsed": true
   },
   "outputs": [],
   "source": [
    "books.drop('Unnamed: 0',axis=1,inplace=True)"
   ]
  },
  {
   "cell_type": "code",
   "execution_count": 4,
   "metadata": {
    "collapsed": true
   },
   "outputs": [],
   "source": [
    "def clean_title(statement):\n",
    "    return ' '.join(re.sub(\"/@%&|(@[A-Za-z0-9]+)|([^0-9A-Za-z \\t])|(\\w+:\\/\\/\\S+)\", \" \", statement).split())"
   ]
  },
  {
   "cell_type": "code",
   "execution_count": 5,
   "metadata": {
    "collapsed": true
   },
   "outputs": [],
   "source": [
    "for i in items['title'].index:\n",
    "    items['title'][i] = clean_title(items['title'][i])"
   ]
  },
  {
   "cell_type": "code",
   "execution_count": 6,
   "metadata": {
    "collapsed": true
   },
   "outputs": [],
   "source": [
    "data = pd.merge(books,items,on='ITEM')"
   ]
  },
  {
   "cell_type": "code",
   "execution_count": 7,
   "metadata": {},
   "outputs": [
    {
     "data": {
      "text/html": [
       "<div>\n",
       "<style scoped>\n",
       "    .dataframe tbody tr th:only-of-type {\n",
       "        vertical-align: middle;\n",
       "    }\n",
       "\n",
       "    .dataframe tbody tr th {\n",
       "        vertical-align: top;\n",
       "    }\n",
       "\n",
       "    .dataframe thead th {\n",
       "        text-align: right;\n",
       "    }\n",
       "</style>\n",
       "<table border=\"1\" class=\"dataframe\">\n",
       "  <thead>\n",
       "    <tr style=\"text-align: right;\">\n",
       "      <th></th>\n",
       "      <th>USER</th>\n",
       "      <th>ITEM</th>\n",
       "      <th>RATING</th>\n",
       "      <th>title</th>\n",
       "    </tr>\n",
       "  </thead>\n",
       "  <tbody>\n",
       "    <tr>\n",
       "      <th>0</th>\n",
       "      <td>A2NVNMLC0AFL08</td>\n",
       "      <td>B004KNWWMW</td>\n",
       "      <td>5</td>\n",
       "      <td>Fostex T40RP MkII Pro Headphones</td>\n",
       "    </tr>\n",
       "    <tr>\n",
       "      <th>1</th>\n",
       "      <td>A2UZUH4QHV4HA1</td>\n",
       "      <td>B004KNWWMW</td>\n",
       "      <td>5</td>\n",
       "      <td>Fostex T40RP MkII Pro Headphones</td>\n",
       "    </tr>\n",
       "    <tr>\n",
       "      <th>2</th>\n",
       "      <td>A2IX2PCXS5O2FK</td>\n",
       "      <td>B004KNWWMW</td>\n",
       "      <td>5</td>\n",
       "      <td>Fostex T40RP MkII Pro Headphones</td>\n",
       "    </tr>\n",
       "    <tr>\n",
       "      <th>3</th>\n",
       "      <td>AWG2Y42W9RNNK</td>\n",
       "      <td>B004KNWWMW</td>\n",
       "      <td>4</td>\n",
       "      <td>Fostex T40RP MkII Pro Headphones</td>\n",
       "    </tr>\n",
       "    <tr>\n",
       "      <th>4</th>\n",
       "      <td>A1YGUFU306JKGK</td>\n",
       "      <td>B004KNWWMW</td>\n",
       "      <td>5</td>\n",
       "      <td>Fostex T40RP MkII Pro Headphones</td>\n",
       "    </tr>\n",
       "  </tbody>\n",
       "</table>\n",
       "</div>"
      ],
      "text/plain": [
       "             USER        ITEM  RATING                             title\n",
       "0  A2NVNMLC0AFL08  B004KNWWMW       5  Fostex T40RP MkII Pro Headphones\n",
       "1  A2UZUH4QHV4HA1  B004KNWWMW       5  Fostex T40RP MkII Pro Headphones\n",
       "2  A2IX2PCXS5O2FK  B004KNWWMW       5  Fostex T40RP MkII Pro Headphones\n",
       "3   AWG2Y42W9RNNK  B004KNWWMW       4  Fostex T40RP MkII Pro Headphones\n",
       "4  A1YGUFU306JKGK  B004KNWWMW       5  Fostex T40RP MkII Pro Headphones"
      ]
     },
     "execution_count": 7,
     "metadata": {},
     "output_type": "execute_result"
    }
   ],
   "source": [
    "data.head()"
   ]
  },
  {
   "cell_type": "code",
   "execution_count": 8,
   "metadata": {
    "collapsed": true
   },
   "outputs": [],
   "source": [
    "# Create a numeric user_id and title_id column\n",
    "data['USER'] = data['USER'].astype(\"category\")\n",
    "data['title'] = data['title'].astype(\"category\")\n",
    "data['user_id'] = data['USER'].cat.codes\n",
    "data['title_id'] = data['title'].cat.codes"
   ]
  },
  {
   "cell_type": "code",
   "execution_count": 9,
   "metadata": {},
   "outputs": [],
   "source": [
    "# Create a lookup frame so we can get the title names back in  readable form later.\n",
    "item_lookup = data[['title_id', 'title']].drop_duplicates()\n",
    "item_lookup['title_id'] = item_lookup.title_id.astype(str)\n",
    "\n",
    "user_lookup = data[['user_id', 'USER']].drop_duplicates()\n",
    "user_lookup['user_id'] = item_lookup.title_id.astype(str)"
   ]
  },
  {
   "cell_type": "code",
   "execution_count": 10,
   "metadata": {},
   "outputs": [
    {
     "data": {
      "text/html": [
       "<div>\n",
       "<style scoped>\n",
       "    .dataframe tbody tr th:only-of-type {\n",
       "        vertical-align: middle;\n",
       "    }\n",
       "\n",
       "    .dataframe tbody tr th {\n",
       "        vertical-align: top;\n",
       "    }\n",
       "\n",
       "    .dataframe thead th {\n",
       "        text-align: right;\n",
       "    }\n",
       "</style>\n",
       "<table border=\"1\" class=\"dataframe\">\n",
       "  <thead>\n",
       "    <tr style=\"text-align: right;\">\n",
       "      <th></th>\n",
       "      <th>USER</th>\n",
       "      <th>ITEM</th>\n",
       "      <th>RATING</th>\n",
       "      <th>title</th>\n",
       "      <th>user_id</th>\n",
       "      <th>title_id</th>\n",
       "    </tr>\n",
       "  </thead>\n",
       "  <tbody>\n",
       "    <tr>\n",
       "      <th>0</th>\n",
       "      <td>A2NVNMLC0AFL08</td>\n",
       "      <td>B004KNWWMW</td>\n",
       "      <td>5</td>\n",
       "      <td>Fostex T40RP MkII Pro Headphones</td>\n",
       "      <td>2174</td>\n",
       "      <td>23</td>\n",
       "    </tr>\n",
       "    <tr>\n",
       "      <th>1</th>\n",
       "      <td>A2UZUH4QHV4HA1</td>\n",
       "      <td>B004KNWWMW</td>\n",
       "      <td>5</td>\n",
       "      <td>Fostex T40RP MkII Pro Headphones</td>\n",
       "      <td>2465</td>\n",
       "      <td>23</td>\n",
       "    </tr>\n",
       "    <tr>\n",
       "      <th>2</th>\n",
       "      <td>A2IX2PCXS5O2FK</td>\n",
       "      <td>B004KNWWMW</td>\n",
       "      <td>5</td>\n",
       "      <td>Fostex T40RP MkII Pro Headphones</td>\n",
       "      <td>1982</td>\n",
       "      <td>23</td>\n",
       "    </tr>\n",
       "    <tr>\n",
       "      <th>3</th>\n",
       "      <td>AWG2Y42W9RNNK</td>\n",
       "      <td>B004KNWWMW</td>\n",
       "      <td>4</td>\n",
       "      <td>Fostex T40RP MkII Pro Headphones</td>\n",
       "      <td>5082</td>\n",
       "      <td>23</td>\n",
       "    </tr>\n",
       "    <tr>\n",
       "      <th>4</th>\n",
       "      <td>A1YGUFU306JKGK</td>\n",
       "      <td>B004KNWWMW</td>\n",
       "      <td>5</td>\n",
       "      <td>Fostex T40RP MkII Pro Headphones</td>\n",
       "      <td>1136</td>\n",
       "      <td>23</td>\n",
       "    </tr>\n",
       "  </tbody>\n",
       "</table>\n",
       "</div>"
      ],
      "text/plain": [
       "             USER        ITEM  RATING                             title  \\\n",
       "0  A2NVNMLC0AFL08  B004KNWWMW       5  Fostex T40RP MkII Pro Headphones   \n",
       "1  A2UZUH4QHV4HA1  B004KNWWMW       5  Fostex T40RP MkII Pro Headphones   \n",
       "2  A2IX2PCXS5O2FK  B004KNWWMW       5  Fostex T40RP MkII Pro Headphones   \n",
       "3   AWG2Y42W9RNNK  B004KNWWMW       4  Fostex T40RP MkII Pro Headphones   \n",
       "4  A1YGUFU306JKGK  B004KNWWMW       5  Fostex T40RP MkII Pro Headphones   \n",
       "\n",
       "   user_id  title_id  \n",
       "0     2174        23  \n",
       "1     2465        23  \n",
       "2     1982        23  \n",
       "3     5082        23  \n",
       "4     1136        23  "
      ]
     },
     "execution_count": 10,
     "metadata": {},
     "output_type": "execute_result"
    }
   ],
   "source": [
    "data.head()"
   ]
  },
  {
   "cell_type": "code",
   "execution_count": 11,
   "metadata": {
    "collapsed": true
   },
   "outputs": [],
   "source": [
    "data = data.drop(['USER', 'ITEM','title'], axis=1)\n"
   ]
  },
  {
   "cell_type": "code",
   "execution_count": 12,
   "metadata": {
    "collapsed": true
   },
   "outputs": [],
   "source": [
    "#data = data.drop(['mcat_id'], axis = 1)"
   ]
  },
  {
   "cell_type": "code",
   "execution_count": 13,
   "metadata": {
    "collapsed": true
   },
   "outputs": [],
   "source": [
    "data = data.loc[data.RATING != 0]\n"
   ]
  },
  {
   "cell_type": "code",
   "execution_count": 14,
   "metadata": {},
   "outputs": [],
   "source": [
    "# Create lists of all users, items and their purchase counts\n",
    "users = list(np.sort(data.user_id.unique()))\n",
    "title = list(np.sort(data.title_id.unique()))\n",
    "RATINGS = list(data.RATING)"
   ]
  },
  {
   "cell_type": "code",
   "execution_count": 15,
   "metadata": {
    "collapsed": true
   },
   "outputs": [],
   "source": [
    "# Get the rows and columns for our new matrix\n",
    "rows = data.user_id.astype(int)\n",
    "cols = data.title_id.astype(int)"
   ]
  },
  {
   "cell_type": "code",
   "execution_count": 16,
   "metadata": {},
   "outputs": [],
   "source": [
    " # Create a sparse matrix for our users and items containing number of Ratings\n",
    "data_sparse_new = sparse.csr_matrix((RATINGS, (rows, cols)), shape=(len(users), len(title)))"
   ]
  },
  {
   "cell_type": "code",
   "execution_count": 17,
   "metadata": {},
   "outputs": [
    {
     "name": "stdout",
     "output_type": "stream",
     "text": [
      "  (0, 3)\t4\n",
      "  (1, 27)\t5\n",
      "  (2, 83)\t4\n",
      "  (3, 51)\t5\n",
      "  (4, 34)\t15\n",
      "  (5, 90)\t2\n",
      "  (6, 31)\t2\n",
      "  (6, 74)\t3\n",
      "  (7, 8)\t4\n",
      "  (8, 61)\t3\n",
      "  (9, 29)\t4\n",
      "  (9, 98)\t4\n",
      "  (10, 0)\t4\n",
      "  (10, 35)\t2\n",
      "  (10, 59)\t1\n",
      "  (11, 79)\t6\n",
      "  (12, 76)\t8\n",
      "  (13, 70)\t4\n",
      "  (14, 101)\t3\n",
      "  (15, 48)\t4\n",
      "  (15, 52)\t4\n",
      "  (15, 60)\t4\n",
      "  (15, 69)\t3\n",
      "  (16, 56)\t4\n",
      "  (17, 2)\t4\n",
      "  :\t:\n",
      "  (5195, 92)\t3\n",
      "  (5196, 62)\t4\n",
      "  (5197, 38)\t1\n",
      "  (5198, 31)\t1\n",
      "  (5199, 81)\t3\n",
      "  (5200, 21)\t3\n",
      "  (5200, 31)\t1\n",
      "  (5200, 37)\t3\n",
      "  (5200, 40)\t3\n",
      "  (5201, 43)\t3\n",
      "  (5202, 19)\t3\n",
      "  (5203, 46)\t3\n",
      "  (5204, 0)\t3\n",
      "  (5204, 96)\t3\n",
      "  (5205, 18)\t3\n",
      "  (5206, 11)\t3\n",
      "  (5207, 76)\t8\n",
      "  (5208, 18)\t2\n",
      "  (5209, 62)\t3\n",
      "  (5210, 46)\t1\n",
      "  (5210, 60)\t3\n",
      "  (5211, 48)\t4\n",
      "  (5212, 30)\t2\n",
      "  (5212, 84)\t3\n",
      "  (5213, 87)\t1\n"
     ]
    }
   ],
   "source": [
    "print(data_sparse_new)"
   ]
  },
  {
   "cell_type": "code",
   "execution_count": 18,
   "metadata": {
    "collapsed": true
   },
   "outputs": [],
   "source": [
    "\n",
    "def implicit_als(sparse_data, alpha_val=40, iterations=10, lambda_val=0.1, features=10):\n",
    "     # Calculate the Confidence for each value in our data\n",
    "    confidence = sparse_data * alpha_val\n",
    "    \n",
    "    # Get the size of user rows and item columns using numpy array shape\n",
    "    user_size, item_size = sparse_data.shape\n",
    "    \n",
    "    # We create the user vectors X of size users x features, the item vectors\n",
    "    # Y of size items x features and randomly assign values to them using np.random.normal\n",
    "    X = sparse.csr_matrix(np.random.normal(size = (user_size, features)))\n",
    "    Y = sparse.csr_matrix(np.random.normal(size = (item_size, features)))\n",
    "    \n",
    "    #Identity matrix and lambda * I\n",
    "    X_I = sparse.eye(user_size)\n",
    "    Y_I = sparse.eye(item_size)\n",
    "    \n",
    "    I = sparse.eye(features)\n",
    "    lI = lambda_val * I\n",
    "    \n",
    "    for i in range(iterations):\n",
    "        print('iteration %d of %d' % (i+1, iterations))\n",
    "        \n",
    "        # Precompute Y-transpose-Y and X-transpose-X\n",
    "        yTy = Y.T.dot(Y)\n",
    "        xTx = X.T.dot(X)\n",
    "\n",
    "        # Run in a loop for entire user data\n",
    "        for u in range(user_size):\n",
    "\n",
    "            # Get the user row.\n",
    "            u_row = confidence[u,:].toarray() \n",
    "\n",
    "            # Calculate the binary preference p(u)\n",
    "            p_u = u_row.copy()\n",
    "            p_u[p_u != 0] = 1.0\n",
    "\n",
    "            # Calculate Cu and Cu - I\n",
    "            CuI = sparse.diags(u_row, [0])\n",
    "            Cu = CuI + Y_I\n",
    "\n",
    "            # Put it all together and compute the final formula\n",
    "            yT_CuI_y = Y.T.dot(CuI).dot(Y)\n",
    "            yT_Cu_pu = Y.T.dot(Cu).dot(p_u.T)\n",
    "            X[u] = spsolve(yTy + yT_CuI_y + lI, yT_Cu_pu)\n",
    "\n",
    "    \n",
    "        for i in range(item_size):\n",
    "\n",
    "            # Get the item column and transpose it.\n",
    "            i_row = confidence[:,i].T.toarray()\n",
    "\n",
    "            # Calculate the binary preference p(i)\n",
    "            p_i = i_row.copy()\n",
    "            p_i[p_i != 0] = 1.0\n",
    "\n",
    "            # Calculate Ci and Ci - I\n",
    "            CiI = sparse.diags(i_row, [0])\n",
    "            Ci = CiI + X_I\n",
    "\n",
    "            # Put it all together and compute the final formula\n",
    "            xT_CiI_x = X.T.dot(CiI).dot(X)\n",
    "            xT_Ci_pi = X.T.dot(Ci).dot(p_i.T)\n",
    "            Y[i] = spsolve(xTx + xT_CiI_x + lI, xT_Ci_pi)\n",
    "\n",
    "    return X, Y\n"
   ]
  },
  {
   "cell_type": "code",
   "execution_count": 22,
   "metadata": {},
   "outputs": [
    {
     "name": "stdout",
     "output_type": "stream",
     "text": [
      "iteration 1 of 5\n",
      "iteration 2 of 5\n",
      "iteration 3 of 5\n",
      "iteration 4 of 5\n",
      "iteration 5 of 5\n",
      "     title_id                                              title\n",
      "6455       79  Skagen Men s 596XLTXM Multifunction Titanium B...\n",
      "                                   Items_recommended     score\n",
      "0                                             Xender  0.553025\n",
      "1  Safe At Office 500 Wrls 5U Internet Security A...  0.546691\n",
      "2                      DVI Gear HDMI Cable 2M 6 feet  0.543867\n",
      "3  OtterBox Defender Series Case for iPhone 5 Dis...  0.537740\n",
      "4  Comprehensive ST Series USB Cable 2 0 A to B C...  0.537683\n",
      "5                                Hijacked Flight 285  0.523712\n",
      "6   KEEN Men s Targhee II Mid Waterproof Hiking Boot  0.521595\n",
      "7               Computer Or Monitor Power Cable 50FT  0.515640\n",
      "8  Kroo Forza Leather Case for Creative Zen Visio...  0.515640\n",
      "9  Rectangular Dark Orange Enamel Silver Cufflink...  0.509827\n"
     ]
    }
   ],
   "source": [
    "\n",
    "user_vecs1, item_vecs1 = implicit_als(data_sparse_new, iterations=5, features=20, alpha_val=40)\n",
    "# Let's say we want to recommend mcats for user having user ID = 11\n",
    "USER = 11\n",
    "\n",
    "#------------------------------\n",
    "# GET the buy leads purchased by the user\n",
    "#------------------------------\n",
    "\n",
    "# Let's print out what the user has purchased\n",
    "consumed_idx = data_sparse_new[USER,:].nonzero()[1].astype(str)\n",
    "consumed_items = item_lookup.loc[item_lookup.title_id.isin(consumed_idx)]\n",
    "print(consumed_items)\n",
    "\n",
    "\n",
    "#------------------------------\n",
    "# Lets create users recommendations\n",
    "#------------------------------\n",
    "\n",
    "def recommend(USER, data_sparse_new, user_vecs1, item_vecs1, item_lookup, num_items=10):\n",
    "\n",
    "    # Get all interactions by the user\n",
    "    user_interactions = data_sparse_new[USER,:].toarray()\n",
    "\n",
    "    # We don't want to recommend items the user has consumed. So let's\n",
    "    # set them all to 0 and the unknowns to 1.\n",
    "    user_interactions = user_interactions.reshape(-1) + 1 #Reshape to turn into 1D array\n",
    "    user_interactions[user_interactions > 1] = 0\n",
    "\n",
    "    # This is where we calculate the recommendation by taking the \n",
    "    # dot-product of the user vectors with the item vectors.\n",
    "    rec_vector = user_vecs1[USER,:].dot(item_vecs1.T).toarray()\n",
    "\n",
    "    # Let's scale our scores between 0 and 1 to make it all easier to interpret.\n",
    "    min_max = MinMaxScaler()\n",
    "    rec_vector_scaled = min_max.fit_transform(rec_vector.reshape(-1,1))[:,0]\n",
    "    recommend_vector = user_interactions*rec_vector_scaled\n",
    "   \n",
    "    # Get all the mcats indices in order of recommendations (descending) and\n",
    "    # select only the top mcats. \n",
    "    item_idx = np.argsort(recommend_vector)[::-1][:num_items]\n",
    "\n",
    "    Items_recommended = []\n",
    "    scores = []\n",
    "\n",
    "    # Loop through our recommended mcat indicies and look up the actual mcat name\n",
    "    for idx in item_idx:\n",
    "        Items_recommended.append(item_lookup.title.loc[item_lookup.title_id == str(idx)].iloc[0])\n",
    "        scores.append(recommend_vector[idx])\n",
    "\n",
    "    # Create a new dataframe with recommended mcat names and scores\n",
    "    recommendations = pd.DataFrame({'Items_recommended': Items_recommended, 'score': scores})\n",
    "    \n",
    "    return recommendations\n",
    "\n",
    "# Let's generate and print our recommendations of mcats against users\n",
    "recommendations = recommend(USER, data_sparse_new, user_vecs1, item_vecs1, item_lookup)\n",
    "print(recommendations)\n"
   ]
  },
  {
   "cell_type": "code",
   "execution_count": null,
   "metadata": {
    "collapsed": true
   },
   "outputs": [],
   "source": []
  }
 ],
 "metadata": {
  "kernelspec": {
   "display_name": "Python 3",
   "language": "python",
   "name": "python3"
  },
  "language_info": {
   "codemirror_mode": {
    "name": "ipython",
    "version": 3
   },
   "file_extension": ".py",
   "mimetype": "text/x-python",
   "name": "python",
   "nbconvert_exporter": "python",
   "pygments_lexer": "ipython3",
   "version": "3.6.3"
  }
 },
 "nbformat": 4,
 "nbformat_minor": 2
}
