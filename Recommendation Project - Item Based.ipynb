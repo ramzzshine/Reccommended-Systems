{
 "cells": [
  {
   "cell_type": "code",
   "execution_count": 1,
   "metadata": {
    "collapsed": true
   },
   "outputs": [],
   "source": [
    "import pandas as pd \n",
    "import numpy as np\n",
    "import warnings\n",
    "warnings.filterwarnings('ignore')\n",
    "import re "
   ]
  },
  {
   "cell_type": "code",
   "execution_count": 2,
   "metadata": {
    "collapsed": true
   },
   "outputs": [],
   "source": [
    "\n",
    "books = pd.read_excel('C://Users/DS7_RVepuri/Desktop/Reccomendation/User 4.xlsx',sheet_name='user_item4')\n",
    "items = pd.read_excel('C://Users/DS7_RVepuri/Desktop/Reccomendation/User 4.xlsx',sheet_name='Item-desc')\n",
    "data = pd.merge(books,items)"
   ]
  },
  {
   "cell_type": "code",
   "execution_count": 3,
   "metadata": {},
   "outputs": [
    {
     "data": {
      "text/html": [
       "<div>\n",
       "<style scoped>\n",
       "    .dataframe tbody tr th:only-of-type {\n",
       "        vertical-align: middle;\n",
       "    }\n",
       "\n",
       "    .dataframe tbody tr th {\n",
       "        vertical-align: top;\n",
       "    }\n",
       "\n",
       "    .dataframe thead th {\n",
       "        text-align: right;\n",
       "    }\n",
       "</style>\n",
       "<table border=\"1\" class=\"dataframe\">\n",
       "  <thead>\n",
       "    <tr style=\"text-align: right;\">\n",
       "      <th></th>\n",
       "      <th>Unnamed: 0</th>\n",
       "      <th>USER</th>\n",
       "      <th>ITEM</th>\n",
       "      <th>RATING</th>\n",
       "    </tr>\n",
       "  </thead>\n",
       "  <tbody>\n",
       "    <tr>\n",
       "      <th>0</th>\n",
       "      <td>1</td>\n",
       "      <td>A2NVNMLC0AFL08</td>\n",
       "      <td>B004KNWWMW</td>\n",
       "      <td>5</td>\n",
       "    </tr>\n",
       "    <tr>\n",
       "      <th>1</th>\n",
       "      <td>2</td>\n",
       "      <td>A1F1FOR46702YF</td>\n",
       "      <td>B001KVZ6HK</td>\n",
       "      <td>5</td>\n",
       "    </tr>\n",
       "    <tr>\n",
       "      <th>2</th>\n",
       "      <td>3</td>\n",
       "      <td>A3M6TSEV71537G</td>\n",
       "      <td>439023483</td>\n",
       "      <td>4</td>\n",
       "    </tr>\n",
       "    <tr>\n",
       "      <th>3</th>\n",
       "      <td>4</td>\n",
       "      <td>A2XJCPCMH83X1K</td>\n",
       "      <td>B00FZM8Z7I</td>\n",
       "      <td>4</td>\n",
       "    </tr>\n",
       "    <tr>\n",
       "      <th>4</th>\n",
       "      <td>5</td>\n",
       "      <td>A1F6TTVJS0PM2P</td>\n",
       "      <td>B004KNWWNQ</td>\n",
       "      <td>5</td>\n",
       "    </tr>\n",
       "  </tbody>\n",
       "</table>\n",
       "</div>"
      ],
      "text/plain": [
       "   Unnamed: 0            USER        ITEM  RATING\n",
       "0           1  A2NVNMLC0AFL08  B004KNWWMW       5\n",
       "1           2  A1F1FOR46702YF  B001KVZ6HK       5\n",
       "2           3  A3M6TSEV71537G   439023483       4\n",
       "3           4  A2XJCPCMH83X1K  B00FZM8Z7I       4\n",
       "4           5  A1F6TTVJS0PM2P  B004KNWWNQ       5"
      ]
     },
     "execution_count": 3,
     "metadata": {},
     "output_type": "execute_result"
    }
   ],
   "source": [
    "books.head()"
   ]
  },
  {
   "cell_type": "code",
   "execution_count": 4,
   "metadata": {
    "collapsed": true
   },
   "outputs": [],
   "source": [
    "books.drop('Unnamed: 0',axis=1,inplace=True)"
   ]
  },
  {
   "cell_type": "code",
   "execution_count": 5,
   "metadata": {},
   "outputs": [
    {
     "data": {
      "text/html": [
       "<div>\n",
       "<style scoped>\n",
       "    .dataframe tbody tr th:only-of-type {\n",
       "        vertical-align: middle;\n",
       "    }\n",
       "\n",
       "    .dataframe tbody tr th {\n",
       "        vertical-align: top;\n",
       "    }\n",
       "\n",
       "    .dataframe thead th {\n",
       "        text-align: right;\n",
       "    }\n",
       "</style>\n",
       "<table border=\"1\" class=\"dataframe\">\n",
       "  <thead>\n",
       "    <tr style=\"text-align: right;\">\n",
       "      <th></th>\n",
       "      <th>ITEM</th>\n",
       "      <th>title</th>\n",
       "    </tr>\n",
       "  </thead>\n",
       "  <tbody>\n",
       "    <tr>\n",
       "      <th>0</th>\n",
       "      <td>B004KNWWMW</td>\n",
       "      <td>Fostex T40RP MkII Pro Headphones\\t\\t\\t\\t\\t\\t\\t...</td>\n",
       "    </tr>\n",
       "    <tr>\n",
       "      <th>1</th>\n",
       "      <td>B001KVZ6HK</td>\n",
       "      <td>Avengers</td>\n",
       "    </tr>\n",
       "    <tr>\n",
       "      <th>2</th>\n",
       "      <td>439023483</td>\n",
       "      <td>Rectangular Dark Orange Enamel Silver Cufflink...</td>\n",
       "    </tr>\n",
       "    <tr>\n",
       "      <th>3</th>\n",
       "      <td>439023483</td>\n",
       "      <td>Rectangular Dark Orange Enamel Silver Cufflink...</td>\n",
       "    </tr>\n",
       "    <tr>\n",
       "      <th>4</th>\n",
       "      <td>B00FZM8Z7I</td>\n",
       "      <td>FROZEN</td>\n",
       "    </tr>\n",
       "  </tbody>\n",
       "</table>\n",
       "</div>"
      ],
      "text/plain": [
       "         ITEM                                              title\n",
       "0  B004KNWWMW  Fostex T40RP MkII Pro Headphones\\t\\t\\t\\t\\t\\t\\t...\n",
       "1  B001KVZ6HK                                           Avengers\n",
       "2   439023483  Rectangular Dark Orange Enamel Silver Cufflink...\n",
       "3   439023483  Rectangular Dark Orange Enamel Silver Cufflink...\n",
       "4  B00FZM8Z7I                                             FROZEN"
      ]
     },
     "execution_count": 5,
     "metadata": {},
     "output_type": "execute_result"
    }
   ],
   "source": [
    "items.head()"
   ]
  },
  {
   "cell_type": "code",
   "execution_count": null,
   "metadata": {
    "collapsed": true
   },
   "outputs": [],
   "source": []
  },
  {
   "cell_type": "code",
   "execution_count": 6,
   "metadata": {
    "collapsed": true
   },
   "outputs": [],
   "source": [
    "def clean_title(statement):\n",
    "    return ' '.join(re.sub(\"/@%&|(@[A-Za-z0-9]+)|([^0-9A-Za-z \\t])|(\\w+:\\/\\/\\S+)\", \" \", statement).split())"
   ]
  },
  {
   "cell_type": "code",
   "execution_count": 7,
   "metadata": {
    "collapsed": true
   },
   "outputs": [],
   "source": [
    "for i in items['title'].index:\n",
    "    items['title'][i] = clean_title(items['title'][i])"
   ]
  },
  {
   "cell_type": "code",
   "execution_count": 8,
   "metadata": {},
   "outputs": [
    {
     "data": {
      "text/html": [
       "<div>\n",
       "<style scoped>\n",
       "    .dataframe tbody tr th:only-of-type {\n",
       "        vertical-align: middle;\n",
       "    }\n",
       "\n",
       "    .dataframe tbody tr th {\n",
       "        vertical-align: top;\n",
       "    }\n",
       "\n",
       "    .dataframe thead th {\n",
       "        text-align: right;\n",
       "    }\n",
       "</style>\n",
       "<table border=\"1\" class=\"dataframe\">\n",
       "  <thead>\n",
       "    <tr style=\"text-align: right;\">\n",
       "      <th></th>\n",
       "      <th>ITEM</th>\n",
       "      <th>title</th>\n",
       "    </tr>\n",
       "  </thead>\n",
       "  <tbody>\n",
       "    <tr>\n",
       "      <th>0</th>\n",
       "      <td>B004KNWWMW</td>\n",
       "      <td>Fostex T40RP MkII Pro Headphones</td>\n",
       "    </tr>\n",
       "    <tr>\n",
       "      <th>1</th>\n",
       "      <td>B001KVZ6HK</td>\n",
       "      <td>Avengers</td>\n",
       "    </tr>\n",
       "    <tr>\n",
       "      <th>2</th>\n",
       "      <td>439023483</td>\n",
       "      <td>Rectangular Dark Orange Enamel Silver Cufflink...</td>\n",
       "    </tr>\n",
       "    <tr>\n",
       "      <th>3</th>\n",
       "      <td>439023483</td>\n",
       "      <td>Rectangular Dark Orange Enamel Silver Cufflink...</td>\n",
       "    </tr>\n",
       "    <tr>\n",
       "      <th>4</th>\n",
       "      <td>B00FZM8Z7I</td>\n",
       "      <td>FROZEN</td>\n",
       "    </tr>\n",
       "  </tbody>\n",
       "</table>\n",
       "</div>"
      ],
      "text/plain": [
       "         ITEM                                              title\n",
       "0  B004KNWWMW                   Fostex T40RP MkII Pro Headphones\n",
       "1  B001KVZ6HK                                           Avengers\n",
       "2   439023483  Rectangular Dark Orange Enamel Silver Cufflink...\n",
       "3   439023483  Rectangular Dark Orange Enamel Silver Cufflink...\n",
       "4  B00FZM8Z7I                                             FROZEN"
      ]
     },
     "execution_count": 8,
     "metadata": {},
     "output_type": "execute_result"
    }
   ],
   "source": [
    "items.head()"
   ]
  },
  {
   "cell_type": "code",
   "execution_count": 9,
   "metadata": {
    "collapsed": true
   },
   "outputs": [],
   "source": [
    "items.drop_duplicates(inplace=True)"
   ]
  },
  {
   "cell_type": "code",
   "execution_count": 10,
   "metadata": {
    "collapsed": true
   },
   "outputs": [],
   "source": [
    "data = pd.merge(books,items,on='ITEM')"
   ]
  },
  {
   "cell_type": "code",
   "execution_count": 11,
   "metadata": {},
   "outputs": [
    {
     "data": {
      "text/html": [
       "<div>\n",
       "<style scoped>\n",
       "    .dataframe tbody tr th:only-of-type {\n",
       "        vertical-align: middle;\n",
       "    }\n",
       "\n",
       "    .dataframe tbody tr th {\n",
       "        vertical-align: top;\n",
       "    }\n",
       "\n",
       "    .dataframe thead th {\n",
       "        text-align: right;\n",
       "    }\n",
       "</style>\n",
       "<table border=\"1\" class=\"dataframe\">\n",
       "  <thead>\n",
       "    <tr style=\"text-align: right;\">\n",
       "      <th></th>\n",
       "      <th>USER</th>\n",
       "      <th>ITEM</th>\n",
       "      <th>RATING</th>\n",
       "      <th>title</th>\n",
       "    </tr>\n",
       "  </thead>\n",
       "  <tbody>\n",
       "    <tr>\n",
       "      <th>0</th>\n",
       "      <td>A2NVNMLC0AFL08</td>\n",
       "      <td>B004KNWWMW</td>\n",
       "      <td>5</td>\n",
       "      <td>Fostex T40RP MkII Pro Headphones</td>\n",
       "    </tr>\n",
       "    <tr>\n",
       "      <th>1</th>\n",
       "      <td>A2UZUH4QHV4HA1</td>\n",
       "      <td>B004KNWWMW</td>\n",
       "      <td>5</td>\n",
       "      <td>Fostex T40RP MkII Pro Headphones</td>\n",
       "    </tr>\n",
       "    <tr>\n",
       "      <th>2</th>\n",
       "      <td>A2IX2PCXS5O2FK</td>\n",
       "      <td>B004KNWWMW</td>\n",
       "      <td>5</td>\n",
       "      <td>Fostex T40RP MkII Pro Headphones</td>\n",
       "    </tr>\n",
       "    <tr>\n",
       "      <th>3</th>\n",
       "      <td>AWG2Y42W9RNNK</td>\n",
       "      <td>B004KNWWMW</td>\n",
       "      <td>4</td>\n",
       "      <td>Fostex T40RP MkII Pro Headphones</td>\n",
       "    </tr>\n",
       "    <tr>\n",
       "      <th>4</th>\n",
       "      <td>A1YGUFU306JKGK</td>\n",
       "      <td>B004KNWWMW</td>\n",
       "      <td>5</td>\n",
       "      <td>Fostex T40RP MkII Pro Headphones</td>\n",
       "    </tr>\n",
       "  </tbody>\n",
       "</table>\n",
       "</div>"
      ],
      "text/plain": [
       "             USER        ITEM  RATING                             title\n",
       "0  A2NVNMLC0AFL08  B004KNWWMW       5  Fostex T40RP MkII Pro Headphones\n",
       "1  A2UZUH4QHV4HA1  B004KNWWMW       5  Fostex T40RP MkII Pro Headphones\n",
       "2  A2IX2PCXS5O2FK  B004KNWWMW       5  Fostex T40RP MkII Pro Headphones\n",
       "3   AWG2Y42W9RNNK  B004KNWWMW       4  Fostex T40RP MkII Pro Headphones\n",
       "4  A1YGUFU306JKGK  B004KNWWMW       5  Fostex T40RP MkII Pro Headphones"
      ]
     },
     "execution_count": 11,
     "metadata": {},
     "output_type": "execute_result"
    }
   ],
   "source": [
    "data.head()"
   ]
  },
  {
   "cell_type": "code",
   "execution_count": null,
   "metadata": {
    "collapsed": true
   },
   "outputs": [],
   "source": []
  },
  {
   "cell_type": "code",
   "execution_count": 12,
   "metadata": {},
   "outputs": [
    {
     "data": {
      "text/html": [
       "<div>\n",
       "<style scoped>\n",
       "    .dataframe tbody tr th:only-of-type {\n",
       "        vertical-align: middle;\n",
       "    }\n",
       "\n",
       "    .dataframe tbody tr th {\n",
       "        vertical-align: top;\n",
       "    }\n",
       "\n",
       "    .dataframe thead th {\n",
       "        text-align: right;\n",
       "    }\n",
       "</style>\n",
       "<table border=\"1\" class=\"dataframe\">\n",
       "  <thead>\n",
       "    <tr style=\"text-align: right;\">\n",
       "      <th></th>\n",
       "      <th>RATING</th>\n",
       "    </tr>\n",
       "  </thead>\n",
       "  <tbody>\n",
       "    <tr>\n",
       "      <th>count</th>\n",
       "      <td>6874.000000</td>\n",
       "    </tr>\n",
       "    <tr>\n",
       "      <th>mean</th>\n",
       "      <td>3.480361</td>\n",
       "    </tr>\n",
       "    <tr>\n",
       "      <th>std</th>\n",
       "      <td>1.333834</td>\n",
       "    </tr>\n",
       "    <tr>\n",
       "      <th>min</th>\n",
       "      <td>1.000000</td>\n",
       "    </tr>\n",
       "    <tr>\n",
       "      <th>25%</th>\n",
       "      <td>3.000000</td>\n",
       "    </tr>\n",
       "    <tr>\n",
       "      <th>50%</th>\n",
       "      <td>4.000000</td>\n",
       "    </tr>\n",
       "    <tr>\n",
       "      <th>75%</th>\n",
       "      <td>5.000000</td>\n",
       "    </tr>\n",
       "    <tr>\n",
       "      <th>max</th>\n",
       "      <td>5.000000</td>\n",
       "    </tr>\n",
       "  </tbody>\n",
       "</table>\n",
       "</div>"
      ],
      "text/plain": [
       "            RATING\n",
       "count  6874.000000\n",
       "mean      3.480361\n",
       "std       1.333834\n",
       "min       1.000000\n",
       "25%       3.000000\n",
       "50%       4.000000\n",
       "75%       5.000000\n",
       "max       5.000000"
      ]
     },
     "execution_count": 12,
     "metadata": {},
     "output_type": "execute_result"
    }
   ],
   "source": [
    "data.describe()"
   ]
  },
  {
   "cell_type": "code",
   "execution_count": 13,
   "metadata": {},
   "outputs": [
    {
     "data": {
      "text/html": [
       "<div>\n",
       "<style scoped>\n",
       "    .dataframe tbody tr th:only-of-type {\n",
       "        vertical-align: middle;\n",
       "    }\n",
       "\n",
       "    .dataframe tbody tr th {\n",
       "        vertical-align: top;\n",
       "    }\n",
       "\n",
       "    .dataframe thead th {\n",
       "        text-align: right;\n",
       "    }\n",
       "</style>\n",
       "<table border=\"1\" class=\"dataframe\">\n",
       "  <thead>\n",
       "    <tr style=\"text-align: right;\">\n",
       "      <th></th>\n",
       "      <th>RATING</th>\n",
       "    </tr>\n",
       "    <tr>\n",
       "      <th>ITEM</th>\n",
       "      <th></th>\n",
       "    </tr>\n",
       "  </thead>\n",
       "  <tbody>\n",
       "    <tr>\n",
       "      <th>7386648</th>\n",
       "      <td>3.639175</td>\n",
       "    </tr>\n",
       "    <tr>\n",
       "      <th>7442920</th>\n",
       "      <td>3.510638</td>\n",
       "    </tr>\n",
       "    <tr>\n",
       "      <th>7444117</th>\n",
       "      <td>3.000000</td>\n",
       "    </tr>\n",
       "    <tr>\n",
       "      <th>141039280</th>\n",
       "      <td>3.785185</td>\n",
       "    </tr>\n",
       "    <tr>\n",
       "      <th>307943232</th>\n",
       "      <td>3.600000</td>\n",
       "    </tr>\n",
       "  </tbody>\n",
       "</table>\n",
       "</div>"
      ],
      "text/plain": [
       "             RATING\n",
       "ITEM               \n",
       "7386648    3.639175\n",
       "7442920    3.510638\n",
       "7444117    3.000000\n",
       "141039280  3.785185\n",
       "307943232  3.600000"
      ]
     },
     "execution_count": 13,
     "metadata": {},
     "output_type": "execute_result"
    }
   ],
   "source": [
    "Ratings = pd.DataFrame(data.groupby('ITEM')['RATING'].mean())\n",
    "Ratings.head()"
   ]
  },
  {
   "cell_type": "code",
   "execution_count": 14,
   "metadata": {},
   "outputs": [
    {
     "data": {
      "text/html": [
       "<div>\n",
       "<style scoped>\n",
       "    .dataframe tbody tr th:only-of-type {\n",
       "        vertical-align: middle;\n",
       "    }\n",
       "\n",
       "    .dataframe tbody tr th {\n",
       "        vertical-align: top;\n",
       "    }\n",
       "\n",
       "    .dataframe thead th {\n",
       "        text-align: right;\n",
       "    }\n",
       "</style>\n",
       "<table border=\"1\" class=\"dataframe\">\n",
       "  <thead>\n",
       "    <tr style=\"text-align: right;\">\n",
       "      <th></th>\n",
       "      <th>RATING</th>\n",
       "      <th>number_of_ratings</th>\n",
       "    </tr>\n",
       "    <tr>\n",
       "      <th>ITEM</th>\n",
       "      <th></th>\n",
       "      <th></th>\n",
       "    </tr>\n",
       "  </thead>\n",
       "  <tbody>\n",
       "    <tr>\n",
       "      <th>7386648</th>\n",
       "      <td>3.639175</td>\n",
       "      <td>97</td>\n",
       "    </tr>\n",
       "    <tr>\n",
       "      <th>7442920</th>\n",
       "      <td>3.510638</td>\n",
       "      <td>94</td>\n",
       "    </tr>\n",
       "    <tr>\n",
       "      <th>7444117</th>\n",
       "      <td>3.000000</td>\n",
       "      <td>89</td>\n",
       "    </tr>\n",
       "    <tr>\n",
       "      <th>141039280</th>\n",
       "      <td>3.785185</td>\n",
       "      <td>135</td>\n",
       "    </tr>\n",
       "    <tr>\n",
       "      <th>307943232</th>\n",
       "      <td>3.600000</td>\n",
       "      <td>40</td>\n",
       "    </tr>\n",
       "  </tbody>\n",
       "</table>\n",
       "</div>"
      ],
      "text/plain": [
       "             RATING  number_of_ratings\n",
       "ITEM                                  \n",
       "7386648    3.639175                 97\n",
       "7442920    3.510638                 94\n",
       "7444117    3.000000                 89\n",
       "141039280  3.785185                135\n",
       "307943232  3.600000                 40"
      ]
     },
     "execution_count": 14,
     "metadata": {},
     "output_type": "execute_result"
    }
   ],
   "source": [
    "Ratings['number_of_ratings'] = data.groupby('ITEM')['RATING'].count()\n",
    "Ratings.head()"
   ]
  },
  {
   "cell_type": "code",
   "execution_count": 15,
   "metadata": {},
   "outputs": [
    {
     "data": {
      "text/plain": [
       "<matplotlib.axes._subplots.AxesSubplot at 0xbbec278>"
      ]
     },
     "execution_count": 15,
     "metadata": {},
     "output_type": "execute_result"
    },
    {
     "data": {
      "image/png": "[encoded data removed]",
      "text/plain": [
       "<matplotlib.figure.Figure at 0xb547be0>"
      ]
     },
     "metadata": {},
     "output_type": "display_data"
    }
   ],
   "source": [
    "import matplotlib.pyplot as plt\n",
    "%matplotlib inline\n",
    "Ratings['RATING'].hist(bins=50)"
   ]
  },
  {
   "cell_type": "code",
   "execution_count": 16,
   "metadata": {},
   "outputs": [
    {
     "data": {
      "text/plain": [
       "<matplotlib.axes._subplots.AxesSubplot at 0xbc16e10>"
      ]
     },
     "execution_count": 16,
     "metadata": {},
     "output_type": "execute_result"
    },
    {
     "data": {
      "image/png": "[encoded data removed]",
      "text/plain": [
       "<matplotlib.figure.Figure at 0x59c1b38>"
      ]
     },
     "metadata": {},
     "output_type": "display_data"
    }
   ],
   "source": [
    "Ratings['number_of_ratings'].hist(bins=60)"
   ]
  },
  {
   "cell_type": "code",
   "execution_count": 17,
   "metadata": {},
   "outputs": [
    {
     "data": {
      "text/plain": [
       "<seaborn.axisgrid.JointGrid at 0xb48b9e8>"
      ]
     },
     "execution_count": 17,
     "metadata": {},
     "output_type": "execute_result"
    },
    {
     "data": {
      "image/png": "[encoded data removed]",
      "text/plain": [
       "<matplotlib.figure.Figure at 0xb48b4a8>"
      ]
     },
     "metadata": {},
     "output_type": "display_data"
    }
   ],
   "source": [
    "import seaborn as sns\n",
    "sns.jointplot(x='RATING', y='number_of_ratings', data=Ratings)"
   ]
  },
  {
   "cell_type": "code",
   "execution_count": 18,
   "metadata": {},
   "outputs": [
    {
     "data": {
      "text/html": [
       "<div>\n",
       "<style scoped>\n",
       "    .dataframe tbody tr th:only-of-type {\n",
       "        vertical-align: middle;\n",
       "    }\n",
       "\n",
       "    .dataframe tbody tr th {\n",
       "        vertical-align: top;\n",
       "    }\n",
       "\n",
       "    .dataframe thead th {\n",
       "        text-align: right;\n",
       "    }\n",
       "</style>\n",
       "<table border=\"1\" class=\"dataframe\">\n",
       "  <thead>\n",
       "    <tr style=\"text-align: right;\">\n",
       "      <th>ITEM</th>\n",
       "      <th>7386648</th>\n",
       "      <th>7442920</th>\n",
       "      <th>7444117</th>\n",
       "      <th>141039280</th>\n",
       "      <th>307943232</th>\n",
       "      <th>316044695</th>\n",
       "      <th>316055433</th>\n",
       "      <th>345803485</th>\n",
       "      <th>345803493</th>\n",
       "      <th>345803507</th>\n",
       "      <th>...</th>\n",
       "      <th>B00DAHSVYC</th>\n",
       "      <th>B00DJFIMW6</th>\n",
       "      <th>B00DR0PDNE</th>\n",
       "      <th>B00E8KLWB4</th>\n",
       "      <th>B00FAPF5U0</th>\n",
       "      <th>B00FZM8Z7I</th>\n",
       "      <th>B00G5LQ5MU</th>\n",
       "      <th>B00I3MMN4I</th>\n",
       "      <th>B00I3MPDP4</th>\n",
       "      <th>B00I8Q77Y0</th>\n",
       "    </tr>\n",
       "    <tr>\n",
       "      <th>USER</th>\n",
       "      <th></th>\n",
       "      <th></th>\n",
       "      <th></th>\n",
       "      <th></th>\n",
       "      <th></th>\n",
       "      <th></th>\n",
       "      <th></th>\n",
       "      <th></th>\n",
       "      <th></th>\n",
       "      <th></th>\n",
       "      <th></th>\n",
       "      <th></th>\n",
       "      <th></th>\n",
       "      <th></th>\n",
       "      <th></th>\n",
       "      <th></th>\n",
       "      <th></th>\n",
       "      <th></th>\n",
       "      <th></th>\n",
       "      <th></th>\n",
       "      <th></th>\n",
       "    </tr>\n",
       "  </thead>\n",
       "  <tbody>\n",
       "    <tr>\n",
       "      <th>A0718784TOWF9DX1DOFD</th>\n",
       "      <td>NaN</td>\n",
       "      <td>NaN</td>\n",
       "      <td>NaN</td>\n",
       "      <td>NaN</td>\n",
       "      <td>NaN</td>\n",
       "      <td>NaN</td>\n",
       "      <td>NaN</td>\n",
       "      <td>NaN</td>\n",
       "      <td>NaN</td>\n",
       "      <td>NaN</td>\n",
       "      <td>...</td>\n",
       "      <td>NaN</td>\n",
       "      <td>NaN</td>\n",
       "      <td>NaN</td>\n",
       "      <td>NaN</td>\n",
       "      <td>NaN</td>\n",
       "      <td>NaN</td>\n",
       "      <td>NaN</td>\n",
       "      <td>NaN</td>\n",
       "      <td>NaN</td>\n",
       "      <td>NaN</td>\n",
       "    </tr>\n",
       "    <tr>\n",
       "      <th>A100L918633LUO</th>\n",
       "      <td>NaN</td>\n",
       "      <td>NaN</td>\n",
       "      <td>NaN</td>\n",
       "      <td>NaN</td>\n",
       "      <td>NaN</td>\n",
       "      <td>NaN</td>\n",
       "      <td>NaN</td>\n",
       "      <td>NaN</td>\n",
       "      <td>NaN</td>\n",
       "      <td>NaN</td>\n",
       "      <td>...</td>\n",
       "      <td>NaN</td>\n",
       "      <td>NaN</td>\n",
       "      <td>5.0</td>\n",
       "      <td>NaN</td>\n",
       "      <td>NaN</td>\n",
       "      <td>NaN</td>\n",
       "      <td>NaN</td>\n",
       "      <td>NaN</td>\n",
       "      <td>NaN</td>\n",
       "      <td>NaN</td>\n",
       "    </tr>\n",
       "    <tr>\n",
       "      <th>A102Z3T7NSM5KC</th>\n",
       "      <td>NaN</td>\n",
       "      <td>NaN</td>\n",
       "      <td>NaN</td>\n",
       "      <td>NaN</td>\n",
       "      <td>NaN</td>\n",
       "      <td>NaN</td>\n",
       "      <td>NaN</td>\n",
       "      <td>NaN</td>\n",
       "      <td>NaN</td>\n",
       "      <td>NaN</td>\n",
       "      <td>...</td>\n",
       "      <td>NaN</td>\n",
       "      <td>NaN</td>\n",
       "      <td>NaN</td>\n",
       "      <td>NaN</td>\n",
       "      <td>NaN</td>\n",
       "      <td>NaN</td>\n",
       "      <td>NaN</td>\n",
       "      <td>NaN</td>\n",
       "      <td>NaN</td>\n",
       "      <td>NaN</td>\n",
       "    </tr>\n",
       "    <tr>\n",
       "      <th>A105A034ZG9EHO</th>\n",
       "      <td>NaN</td>\n",
       "      <td>NaN</td>\n",
       "      <td>NaN</td>\n",
       "      <td>NaN</td>\n",
       "      <td>NaN</td>\n",
       "      <td>NaN</td>\n",
       "      <td>NaN</td>\n",
       "      <td>NaN</td>\n",
       "      <td>NaN</td>\n",
       "      <td>NaN</td>\n",
       "      <td>...</td>\n",
       "      <td>NaN</td>\n",
       "      <td>NaN</td>\n",
       "      <td>NaN</td>\n",
       "      <td>NaN</td>\n",
       "      <td>NaN</td>\n",
       "      <td>NaN</td>\n",
       "      <td>NaN</td>\n",
       "      <td>NaN</td>\n",
       "      <td>NaN</td>\n",
       "      <td>NaN</td>\n",
       "    </tr>\n",
       "    <tr>\n",
       "      <th>A105CCKIWRGI3X</th>\n",
       "      <td>NaN</td>\n",
       "      <td>NaN</td>\n",
       "      <td>NaN</td>\n",
       "      <td>NaN</td>\n",
       "      <td>NaN</td>\n",
       "      <td>NaN</td>\n",
       "      <td>NaN</td>\n",
       "      <td>NaN</td>\n",
       "      <td>NaN</td>\n",
       "      <td>NaN</td>\n",
       "      <td>...</td>\n",
       "      <td>NaN</td>\n",
       "      <td>NaN</td>\n",
       "      <td>NaN</td>\n",
       "      <td>NaN</td>\n",
       "      <td>NaN</td>\n",
       "      <td>NaN</td>\n",
       "      <td>NaN</td>\n",
       "      <td>NaN</td>\n",
       "      <td>NaN</td>\n",
       "      <td>NaN</td>\n",
       "    </tr>\n",
       "  </tbody>\n",
       "</table>\n",
       "<p>5 rows × 102 columns</p>\n",
       "</div>"
      ],
      "text/plain": [
       "ITEM                  7386648  7442920  7444117  141039280  307943232  \\\n",
       "USER                                                                    \n",
       "A0718784TOWF9DX1DOFD      NaN      NaN      NaN        NaN        NaN   \n",
       "A100L918633LUO            NaN      NaN      NaN        NaN        NaN   \n",
       "A102Z3T7NSM5KC            NaN      NaN      NaN        NaN        NaN   \n",
       "A105A034ZG9EHO            NaN      NaN      NaN        NaN        NaN   \n",
       "A105CCKIWRGI3X            NaN      NaN      NaN        NaN        NaN   \n",
       "\n",
       "ITEM                  316044695  316055433  345803485  345803493  345803507  \\\n",
       "USER                                                                          \n",
       "A0718784TOWF9DX1DOFD        NaN        NaN        NaN        NaN        NaN   \n",
       "A100L918633LUO              NaN        NaN        NaN        NaN        NaN   \n",
       "A102Z3T7NSM5KC              NaN        NaN        NaN        NaN        NaN   \n",
       "A105A034ZG9EHO              NaN        NaN        NaN        NaN        NaN   \n",
       "A105CCKIWRGI3X              NaN        NaN        NaN        NaN        NaN   \n",
       "\n",
       "ITEM                  ...  B00DAHSVYC  B00DJFIMW6  B00DR0PDNE  B00E8KLWB4  \\\n",
       "USER                  ...                                                   \n",
       "A0718784TOWF9DX1DOFD  ...         NaN         NaN         NaN         NaN   \n",
       "A100L918633LUO        ...         NaN         NaN         5.0         NaN   \n",
       "A102Z3T7NSM5KC        ...         NaN         NaN         NaN         NaN   \n",
       "A105A034ZG9EHO        ...         NaN         NaN         NaN         NaN   \n",
       "A105CCKIWRGI3X        ...         NaN         NaN         NaN         NaN   \n",
       "\n",
       "ITEM                  B00FAPF5U0  B00FZM8Z7I  B00G5LQ5MU  B00I3MMN4I  \\\n",
       "USER                                                                   \n",
       "A0718784TOWF9DX1DOFD         NaN         NaN         NaN         NaN   \n",
       "A100L918633LUO               NaN         NaN         NaN         NaN   \n",
       "A102Z3T7NSM5KC               NaN         NaN         NaN         NaN   \n",
       "A105A034ZG9EHO               NaN         NaN         NaN         NaN   \n",
       "A105CCKIWRGI3X               NaN         NaN         NaN         NaN   \n",
       "\n",
       "ITEM                  B00I3MPDP4  B00I8Q77Y0  \n",
       "USER                                          \n",
       "A0718784TOWF9DX1DOFD         NaN         NaN  \n",
       "A100L918633LUO               NaN         NaN  \n",
       "A102Z3T7NSM5KC               NaN         NaN  \n",
       "A105A034ZG9EHO               NaN         NaN  \n",
       "A105CCKIWRGI3X               NaN         NaN  \n",
       "\n",
       "[5 rows x 102 columns]"
      ]
     },
     "execution_count": 18,
     "metadata": {},
     "output_type": "execute_result"
    }
   ],
   "source": [
    "Book_matrix = data.pivot_table(index='USER', columns='ITEM', values='RATING')\n",
    "Book_matrix.head()"
   ]
  },
  {
   "cell_type": "code",
   "execution_count": 19,
   "metadata": {},
   "outputs": [
    {
     "data": {
      "text/html": [
       "<div>\n",
       "<style scoped>\n",
       "    .dataframe tbody tr th:only-of-type {\n",
       "        vertical-align: middle;\n",
       "    }\n",
       "\n",
       "    .dataframe tbody tr th {\n",
       "        vertical-align: top;\n",
       "    }\n",
       "\n",
       "    .dataframe thead th {\n",
       "        text-align: right;\n",
       "    }\n",
       "</style>\n",
       "<table border=\"1\" class=\"dataframe\">\n",
       "  <thead>\n",
       "    <tr style=\"text-align: right;\">\n",
       "      <th></th>\n",
       "      <th>RATING</th>\n",
       "      <th>number_of_ratings</th>\n",
       "    </tr>\n",
       "    <tr>\n",
       "      <th>ITEM</th>\n",
       "      <th></th>\n",
       "      <th></th>\n",
       "    </tr>\n",
       "  </thead>\n",
       "  <tbody>\n",
       "    <tr>\n",
       "      <th>439023513</th>\n",
       "      <td>3.613095</td>\n",
       "      <td>336</td>\n",
       "    </tr>\n",
       "    <tr>\n",
       "      <th>439023483</th>\n",
       "      <td>3.638376</td>\n",
       "      <td>271</td>\n",
       "    </tr>\n",
       "    <tr>\n",
       "      <th>B003ES5ZUU</th>\n",
       "      <td>3.645833</td>\n",
       "      <td>192</td>\n",
       "    </tr>\n",
       "    <tr>\n",
       "      <th>B0051VVOB2</th>\n",
       "      <td>3.471910</td>\n",
       "      <td>178</td>\n",
       "    </tr>\n",
       "    <tr>\n",
       "      <th>030758836X</th>\n",
       "      <td>3.485207</td>\n",
       "      <td>169</td>\n",
       "    </tr>\n",
       "    <tr>\n",
       "      <th>B006GWO5WK</th>\n",
       "      <td>3.381295</td>\n",
       "      <td>139</td>\n",
       "    </tr>\n",
       "    <tr>\n",
       "      <th>B007WTAJTO</th>\n",
       "      <td>3.478261</td>\n",
       "      <td>138</td>\n",
       "    </tr>\n",
       "    <tr>\n",
       "      <th>B003EYVXV4</th>\n",
       "      <td>3.348148</td>\n",
       "      <td>135</td>\n",
       "    </tr>\n",
       "    <tr>\n",
       "      <th>141039280</th>\n",
       "      <td>3.785185</td>\n",
       "      <td>135</td>\n",
       "    </tr>\n",
       "    <tr>\n",
       "      <th>375831002</th>\n",
       "      <td>3.712121</td>\n",
       "      <td>132</td>\n",
       "    </tr>\n",
       "  </tbody>\n",
       "</table>\n",
       "</div>"
      ],
      "text/plain": [
       "              RATING  number_of_ratings\n",
       "ITEM                                   \n",
       "439023513   3.613095                336\n",
       "439023483   3.638376                271\n",
       "B003ES5ZUU  3.645833                192\n",
       "B0051VVOB2  3.471910                178\n",
       "030758836X  3.485207                169\n",
       "B006GWO5WK  3.381295                139\n",
       "B007WTAJTO  3.478261                138\n",
       "B003EYVXV4  3.348148                135\n",
       "141039280   3.785185                135\n",
       "375831002   3.712121                132"
      ]
     },
     "execution_count": 19,
     "metadata": {},
     "output_type": "execute_result"
    }
   ],
   "source": [
    "Ratings.sort_values('number_of_ratings', ascending=False).head(10)"
   ]
  },
  {
   "cell_type": "code",
   "execution_count": 20,
   "metadata": {
    "collapsed": true
   },
   "outputs": [],
   "source": [
    "U_rating = Book_matrix[439023483]\n",
    "contact_rating = Book_matrix['B003ES5ZUU']"
   ]
  },
  {
   "cell_type": "code",
   "execution_count": 21,
   "metadata": {},
   "outputs": [
    {
     "data": {
      "text/plain": [
       "USER\n",
       "A0718784TOWF9DX1DOFD   NaN\n",
       "A100L918633LUO         NaN\n",
       "A102Z3T7NSM5KC         NaN\n",
       "A105A034ZG9EHO         NaN\n",
       "A105CCKIWRGI3X         NaN\n",
       "Name: 439023483, dtype: float64"
      ]
     },
     "execution_count": 21,
     "metadata": {},
     "output_type": "execute_result"
    }
   ],
   "source": [
    "U_rating.head()"
   ]
  },
  {
   "cell_type": "code",
   "execution_count": 22,
   "metadata": {},
   "outputs": [
    {
     "data": {
      "text/plain": [
       "USER\n",
       "A0718784TOWF9DX1DOFD    4.0\n",
       "A100L918633LUO          NaN\n",
       "A102Z3T7NSM5KC          NaN\n",
       "A105A034ZG9EHO          NaN\n",
       "A105CCKIWRGI3X          NaN\n",
       "Name: B003ES5ZUU, dtype: float64"
      ]
     },
     "execution_count": 22,
     "metadata": {},
     "output_type": "execute_result"
    }
   ],
   "source": [
    "contact_rating.head()"
   ]
  },
  {
   "cell_type": "code",
   "execution_count": 23,
   "metadata": {
    "collapsed": true
   },
   "outputs": [],
   "source": [
    "similar_to_439023483 =Book_matrix.corrwith(U_rating)"
   ]
  },
  {
   "cell_type": "code",
   "execution_count": 24,
   "metadata": {},
   "outputs": [
    {
     "data": {
      "text/plain": [
       "ITEM\n",
       "7386648      0.000000\n",
       "7442920      0.577350\n",
       "7444117     -0.612372\n",
       "141039280    0.603957\n",
       "307943232         NaN\n",
       "dtype: float64"
      ]
     },
     "execution_count": 24,
     "metadata": {},
     "output_type": "execute_result"
    }
   ],
   "source": [
    "similar_to_439023483.head()"
   ]
  },
  {
   "cell_type": "markdown",
   "metadata": {},
   "source": [
    "a strong correlation (of 0.779) between 439023483 and 141039280."
   ]
  },
  {
   "cell_type": "code",
   "execution_count": 25,
   "metadata": {},
   "outputs": [
    {
     "data": {
      "text/html": [
       "<div>\n",
       "<style scoped>\n",
       "    .dataframe tbody tr th:only-of-type {\n",
       "        vertical-align: middle;\n",
       "    }\n",
       "\n",
       "    .dataframe tbody tr th {\n",
       "        vertical-align: top;\n",
       "    }\n",
       "\n",
       "    .dataframe thead th {\n",
       "        text-align: right;\n",
       "    }\n",
       "</style>\n",
       "<table border=\"1\" class=\"dataframe\">\n",
       "  <thead>\n",
       "    <tr style=\"text-align: right;\">\n",
       "      <th></th>\n",
       "      <th>Correlation</th>\n",
       "    </tr>\n",
       "    <tr>\n",
       "      <th>ITEM</th>\n",
       "      <th></th>\n",
       "    </tr>\n",
       "  </thead>\n",
       "  <tbody>\n",
       "    <tr>\n",
       "      <th>7386648</th>\n",
       "      <td>0.000000</td>\n",
       "    </tr>\n",
       "    <tr>\n",
       "      <th>7442920</th>\n",
       "      <td>0.577350</td>\n",
       "    </tr>\n",
       "    <tr>\n",
       "      <th>7444117</th>\n",
       "      <td>-0.612372</td>\n",
       "    </tr>\n",
       "    <tr>\n",
       "      <th>141039280</th>\n",
       "      <td>0.603957</td>\n",
       "    </tr>\n",
       "    <tr>\n",
       "      <th>345803485</th>\n",
       "      <td>0.522233</td>\n",
       "    </tr>\n",
       "  </tbody>\n",
       "</table>\n",
       "</div>"
      ],
      "text/plain": [
       "           Correlation\n",
       "ITEM                  \n",
       "7386648       0.000000\n",
       "7442920       0.577350\n",
       "7444117      -0.612372\n",
       "141039280     0.603957\n",
       "345803485     0.522233"
      ]
     },
     "execution_count": 25,
     "metadata": {},
     "output_type": "execute_result"
    }
   ],
   "source": [
    "corr_contact = pd.DataFrame(similar_to_439023483, columns=['Correlation'])\n",
    "corr_contact.dropna(inplace=True)\n",
    "corr_contact.head()"
   ]
  },
  {
   "cell_type": "code",
   "execution_count": 26,
   "metadata": {
    "collapsed": true
   },
   "outputs": [],
   "source": [
    "similar_to_contact = Book_matrix.corrwith(contact_rating)"
   ]
  },
  {
   "cell_type": "code",
   "execution_count": 27,
   "metadata": {},
   "outputs": [
    {
     "data": {
      "text/html": [
       "<div>\n",
       "<style scoped>\n",
       "    .dataframe tbody tr th:only-of-type {\n",
       "        vertical-align: middle;\n",
       "    }\n",
       "\n",
       "    .dataframe tbody tr th {\n",
       "        vertical-align: top;\n",
       "    }\n",
       "\n",
       "    .dataframe thead th {\n",
       "        text-align: right;\n",
       "    }\n",
       "</style>\n",
       "<table border=\"1\" class=\"dataframe\">\n",
       "  <thead>\n",
       "    <tr style=\"text-align: right;\">\n",
       "      <th></th>\n",
       "      <th>correlation</th>\n",
       "    </tr>\n",
       "  </thead>\n",
       "  <tbody>\n",
       "  </tbody>\n",
       "</table>\n",
       "</div>"
      ],
      "text/plain": [
       "Empty DataFrame\n",
       "Columns: [correlation]\n",
       "Index: []"
      ]
     },
     "execution_count": 27,
     "metadata": {},
     "output_type": "execute_result"
    }
   ],
   "source": [
    "corr_AFO = pd.DataFrame(contact_rating, columns=['correlation'])\n",
    "corr_AFO.dropna(inplace=True)\n",
    "corr_AFO.head()"
   ]
  },
  {
   "cell_type": "code",
   "execution_count": 28,
   "metadata": {},
   "outputs": [
    {
     "data": {
      "text/html": [
       "<div>\n",
       "<style scoped>\n",
       "    .dataframe tbody tr th:only-of-type {\n",
       "        vertical-align: middle;\n",
       "    }\n",
       "\n",
       "    .dataframe tbody tr th {\n",
       "        vertical-align: top;\n",
       "    }\n",
       "\n",
       "    .dataframe thead th {\n",
       "        text-align: right;\n",
       "    }\n",
       "</style>\n",
       "<table border=\"1\" class=\"dataframe\">\n",
       "  <thead>\n",
       "    <tr style=\"text-align: right;\">\n",
       "      <th></th>\n",
       "      <th>Correlation</th>\n",
       "      <th>number_of_ratings</th>\n",
       "    </tr>\n",
       "    <tr>\n",
       "      <th>ITEM</th>\n",
       "      <th></th>\n",
       "      <th></th>\n",
       "    </tr>\n",
       "  </thead>\n",
       "  <tbody>\n",
       "    <tr>\n",
       "      <th>7386648</th>\n",
       "      <td>0.000000</td>\n",
       "      <td>97</td>\n",
       "    </tr>\n",
       "    <tr>\n",
       "      <th>7442920</th>\n",
       "      <td>0.577350</td>\n",
       "      <td>94</td>\n",
       "    </tr>\n",
       "    <tr>\n",
       "      <th>7444117</th>\n",
       "      <td>-0.612372</td>\n",
       "      <td>89</td>\n",
       "    </tr>\n",
       "    <tr>\n",
       "      <th>141039280</th>\n",
       "      <td>0.603957</td>\n",
       "      <td>135</td>\n",
       "    </tr>\n",
       "    <tr>\n",
       "      <th>345803485</th>\n",
       "      <td>0.522233</td>\n",
       "      <td>110</td>\n",
       "    </tr>\n",
       "  </tbody>\n",
       "</table>\n",
       "</div>"
      ],
      "text/plain": [
       "           Correlation  number_of_ratings\n",
       "ITEM                                     \n",
       "7386648       0.000000                 97\n",
       "7442920       0.577350                 94\n",
       "7444117      -0.612372                 89\n",
       "141039280     0.603957                135\n",
       "345803485     0.522233                110"
      ]
     },
     "execution_count": 28,
     "metadata": {},
     "output_type": "execute_result"
    }
   ],
   "source": [
    "corr_AFO = corr_AFO.join(Ratings['number_of_ratings'])\n",
    "corr_contact = corr_contact.join(Ratings['number_of_ratings'])\n",
    "corr_AFO .head()\n",
    "corr_contact.head()"
   ]
  },
  {
   "cell_type": "code",
   "execution_count": 29,
   "metadata": {},
   "outputs": [
    {
     "data": {
      "text/html": [
       "<div>\n",
       "<style scoped>\n",
       "    .dataframe tbody tr th:only-of-type {\n",
       "        vertical-align: middle;\n",
       "    }\n",
       "\n",
       "    .dataframe tbody tr th {\n",
       "        vertical-align: top;\n",
       "    }\n",
       "\n",
       "    .dataframe thead th {\n",
       "        text-align: right;\n",
       "    }\n",
       "</style>\n",
       "<table border=\"1\" class=\"dataframe\">\n",
       "  <thead>\n",
       "    <tr style=\"text-align: right;\">\n",
       "      <th></th>\n",
       "      <th>correlation</th>\n",
       "      <th>number_of_ratings</th>\n",
       "    </tr>\n",
       "  </thead>\n",
       "  <tbody>\n",
       "  </tbody>\n",
       "</table>\n",
       "</div>"
      ],
      "text/plain": [
       "Empty DataFrame\n",
       "Columns: [correlation, number_of_ratings]\n",
       "Index: []"
      ]
     },
     "execution_count": 29,
     "metadata": {},
     "output_type": "execute_result"
    }
   ],
   "source": [
    "corr_AFO[corr_AFO['number_of_ratings'] > 100].sort_values(by='correlation', ascending=False).head(10)"
   ]
  },
  {
   "cell_type": "code",
   "execution_count": 31,
   "metadata": {
    "collapsed": true
   },
   "outputs": [],
   "source": [
    "final_data= corr_contact[corr_contact['number_of_ratings'] > 100].sort_values(by='Correlation', ascending=False).head(10)"
   ]
  },
  {
   "cell_type": "code",
   "execution_count": 32,
   "metadata": {
    "collapsed": true
   },
   "outputs": [],
   "source": [
    "final_data['title'] = 'nan'\n",
    "for i in final_data.index:\n",
    "    final_data['title'][i] = items.loc[items['ITEM']==i,'title'].values"
   ]
  },
  {
   "cell_type": "code",
   "execution_count": 33,
   "metadata": {},
   "outputs": [
    {
     "data": {
      "text/html": [
       "<div>\n",
       "<style scoped>\n",
       "    .dataframe tbody tr th:only-of-type {\n",
       "        vertical-align: middle;\n",
       "    }\n",
       "\n",
       "    .dataframe tbody tr th {\n",
       "        vertical-align: top;\n",
       "    }\n",
       "\n",
       "    .dataframe thead th {\n",
       "        text-align: right;\n",
       "    }\n",
       "</style>\n",
       "<table border=\"1\" class=\"dataframe\">\n",
       "  <thead>\n",
       "    <tr style=\"text-align: right;\">\n",
       "      <th></th>\n",
       "      <th>Correlation</th>\n",
       "      <th>number_of_ratings</th>\n",
       "      <th>title</th>\n",
       "    </tr>\n",
       "    <tr>\n",
       "      <th>ITEM</th>\n",
       "      <th></th>\n",
       "      <th></th>\n",
       "      <th></th>\n",
       "    </tr>\n",
       "  </thead>\n",
       "  <tbody>\n",
       "    <tr>\n",
       "      <th>439023483</th>\n",
       "      <td>1.000000</td>\n",
       "      <td>271</td>\n",
       "      <td>[Rectangular Dark Orange Enamel Silver Cufflin...</td>\n",
       "    </tr>\n",
       "    <tr>\n",
       "      <th>B006GWO5WK</th>\n",
       "      <td>1.000000</td>\n",
       "      <td>139</td>\n",
       "      <td>[Akhiyon Se Goli Maare]</td>\n",
       "    </tr>\n",
       "    <tr>\n",
       "      <th>B00FZM8Z7I</th>\n",
       "      <td>1.000000</td>\n",
       "      <td>113</td>\n",
       "      <td>[FROZEN]</td>\n",
       "    </tr>\n",
       "    <tr>\n",
       "      <th>B000GF7ZRA</th>\n",
       "      <td>0.871421</td>\n",
       "      <td>104</td>\n",
       "      <td>[Trendy Digital]</td>\n",
       "    </tr>\n",
       "    <tr>\n",
       "      <th>B009SYZ8OC</th>\n",
       "      <td>0.866025</td>\n",
       "      <td>113</td>\n",
       "      <td>[AmazonBasics Apple Certified Lightning to USB...</td>\n",
       "    </tr>\n",
       "    <tr>\n",
       "      <th>B0051VVOB2</th>\n",
       "      <td>0.816497</td>\n",
       "      <td>178</td>\n",
       "      <td>[Voyage]</td>\n",
       "    </tr>\n",
       "    <tr>\n",
       "      <th>439023513</th>\n",
       "      <td>0.806697</td>\n",
       "      <td>336</td>\n",
       "      <td>[Pedro s Oranj Peelz Degreaser, The Man with t...</td>\n",
       "    </tr>\n",
       "    <tr>\n",
       "      <th>030758836X</th>\n",
       "      <td>0.686803</td>\n",
       "      <td>169</td>\n",
       "      <td>[Gone Girl]</td>\n",
       "    </tr>\n",
       "    <tr>\n",
       "      <th>141039280</th>\n",
       "      <td>0.603957</td>\n",
       "      <td>135</td>\n",
       "      <td>[Pedro s Ice Wax All Purpose Bicycle Chain Lub...</td>\n",
       "    </tr>\n",
       "    <tr>\n",
       "      <th>345803485</th>\n",
       "      <td>0.522233</td>\n",
       "      <td>110</td>\n",
       "      <td>[Great Books]</td>\n",
       "    </tr>\n",
       "  </tbody>\n",
       "</table>\n",
       "</div>"
      ],
      "text/plain": [
       "            Correlation  number_of_ratings  \\\n",
       "ITEM                                         \n",
       "439023483      1.000000                271   \n",
       "B006GWO5WK     1.000000                139   \n",
       "B00FZM8Z7I     1.000000                113   \n",
       "B000GF7ZRA     0.871421                104   \n",
       "B009SYZ8OC     0.866025                113   \n",
       "B0051VVOB2     0.816497                178   \n",
       "439023513      0.806697                336   \n",
       "030758836X     0.686803                169   \n",
       "141039280      0.603957                135   \n",
       "345803485      0.522233                110   \n",
       "\n",
       "                                                        title  \n",
       "ITEM                                                           \n",
       "439023483   [Rectangular Dark Orange Enamel Silver Cufflin...  \n",
       "B006GWO5WK                            [Akhiyon Se Goli Maare]  \n",
       "B00FZM8Z7I                                           [FROZEN]  \n",
       "B000GF7ZRA                                   [Trendy Digital]  \n",
       "B009SYZ8OC  [AmazonBasics Apple Certified Lightning to USB...  \n",
       "B0051VVOB2                                           [Voyage]  \n",
       "439023513   [Pedro s Oranj Peelz Degreaser, The Man with t...  \n",
       "030758836X                                        [Gone Girl]  \n",
       "141039280   [Pedro s Ice Wax All Purpose Bicycle Chain Lub...  \n",
       "345803485                                       [Great Books]  "
      ]
     },
     "execution_count": 33,
     "metadata": {},
     "output_type": "execute_result"
    }
   ],
   "source": [
    "final_data"
   ]
  },
  {
   "cell_type": "code",
   "execution_count": 34,
   "metadata": {},
   "outputs": [
    {
     "data": {
      "text/plain": [
       "ITEM\n",
       "439023483     [Rectangular Dark Orange Enamel Silver Cufflin...\n",
       "B006GWO5WK                              [Akhiyon Se Goli Maare]\n",
       "B00FZM8Z7I                                             [FROZEN]\n",
       "B000GF7ZRA                                     [Trendy Digital]\n",
       "B009SYZ8OC    [AmazonBasics Apple Certified Lightning to USB...\n",
       "B0051VVOB2                                             [Voyage]\n",
       "439023513     [Pedro s Oranj Peelz Degreaser, The Man with t...\n",
       "030758836X                                          [Gone Girl]\n",
       "141039280     [Pedro s Ice Wax All Purpose Bicycle Chain Lub...\n",
       "345803485                                         [Great Books]\n",
       "Name: title, dtype: object"
      ]
     },
     "execution_count": 34,
     "metadata": {},
     "output_type": "execute_result"
    }
   ],
   "source": [
    "final_data['title']"
   ]
  },
  {
   "cell_type": "code",
   "execution_count": null,
   "metadata": {
    "collapsed": true
   },
   "outputs": [],
   "source": []
  },
  {
   "cell_type": "code",
   "execution_count": null,
   "metadata": {
    "collapsed": true
   },
   "outputs": [],
   "source": []
  }
 ],
 "metadata": {
  "kernelspec": {
   "display_name": "Python 3",
   "language": "python",
   "name": "python3"
  },
  "language_info": {
   "codemirror_mode": {
    "name": "ipython",
    "version": 3
   },
   "file_extension": ".py",
   "mimetype": "text/x-python",
   "name": "python",
   "nbconvert_exporter": "python",
   "pygments_lexer": "ipython3",
   "version": "3.6.3"
  }
 },
 "nbformat": 4,
 "nbformat_minor": 2
}
